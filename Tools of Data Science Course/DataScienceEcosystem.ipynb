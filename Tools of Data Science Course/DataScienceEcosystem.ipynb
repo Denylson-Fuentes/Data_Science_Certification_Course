{
  "nbformat": 4,
  "nbformat_minor": 0,
  "metadata": {
    "colab": {
      "provenance": []
    },
    "kernelspec": {
      "name": "python3",
      "display_name": "Python 3"
    },
    "language_info": {
      "name": "python"
    }
  },
  "cells": [
    {
      "cell_type": "markdown",
      "source": [
        "# Data Science Tools and Ecosystem #"
      ],
      "metadata": {
        "id": "GU81DKjZovC6"
      }
    },
    {
      "cell_type": "markdown",
      "source": [
        "In this notebook, Data Science Tools and Ecosystem are summarized."
      ],
      "metadata": {
        "id": "WsxyZRGBq9IE"
      }
    },
    {
      "cell_type": "markdown",
      "source": [
        "Objectives:\n",
        "\n",
        "- Listing popular languages for Data Science\n",
        "- List libraries for Data Science\n",
        "- List tools for Data Science\n",
        "- Multiply  two number then add two numbers\n",
        "- Convert minutes into hours"
      ],
      "metadata": {
        "id": "FjGW1FJzutKD"
      }
    },
    {
      "cell_type": "markdown",
      "source": [
        "Some of the popular languages that Data Scientist use are:\n",
        "\n",
        "1. Python\n",
        "2. SQL \n",
        "3. R\n",
        "4. C++\n",
        "5. Swift\n"
      ],
      "metadata": {
        "id": "vnkxhnovqCAs"
      }
    },
    {
      "cell_type": "markdown",
      "source": [
        "Some of the commonly used libraries used by Data Scientists include:\n",
        "\n",
        "1. Pandas\n",
        "2. Scikit-learn\n",
        "3. Pytorch\n",
        "4. Tensorflow\n",
        "5. Numpy\n",
        "6. NLTK\n",
        "7. Seaborn\n",
        "8. Matplotlib\n",
        "9. OpenCV\n",
        "10. XGBoost"
      ],
      "metadata": {
        "id": "J7kgj_d6rdvr"
      }
    },
    {
      "cell_type": "markdown",
      "source": [
        "|Data Science Tools|\n",
        "|------------------|\n",
        "|Pandas|\n",
        "|Scikit-learn|\n",
        "|Pytorch|\n",
        "|Tensorflow|\n",
        "|Numpy|\n",
        "|NLTK|\n",
        "|Seaborn|\n",
        "|Matplotlib|\n",
        "|OpenCV|\n",
        "|XGBoost|"
      ],
      "metadata": {
        "id": "KxsF5Sc5sms9"
      }
    },
    {
      "cell_type": "markdown",
      "source": [
        "### Below are a few examples of evaluating arithmetic expressions in Python ###"
      ],
      "metadata": {
        "id": "Mgh82qzythrL"
      }
    },
    {
      "cell_type": "code",
      "source": [
        "# This a simple arithmetic expression to multiply then add integers\n",
        "(3*4) + 5"
      ],
      "metadata": {
        "id": "yxcV_zdAtDg7",
        "colab": {
          "base_uri": "https://localhost:8080/"
        },
        "outputId": "7411b782-2dc7-42fb-982c-f77fe66b3f65"
      },
      "execution_count": 1,
      "outputs": [
        {
          "output_type": "execute_result",
          "data": {
            "text/plain": [
              "17"
            ]
          },
          "metadata": {},
          "execution_count": 1
        }
      ]
    },
    {
      "cell_type": "code",
      "source": [
        "#This will convert 200 minutes to hours by dividing by 60\n",
        "200/60"
      ],
      "metadata": {
        "colab": {
          "base_uri": "https://localhost:8080/"
        },
        "id": "KraNrVept8x9",
        "outputId": "159f40db-a0be-45ca-f6e9-e1a2088b576d"
      },
      "execution_count": 2,
      "outputs": [
        {
          "output_type": "execute_result",
          "data": {
            "text/plain": [
              "3.3333333333333335"
            ]
          },
          "metadata": {},
          "execution_count": 2
        }
      ]
    },
    {
      "cell_type": "markdown",
      "source": [
        "## Author ##\n",
        "Denylson Fuentes"
      ],
      "metadata": {
        "id": "ggFKIUI2uSL3"
      }
    }
  ]
}